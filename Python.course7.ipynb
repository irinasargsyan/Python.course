{
 "cells": [
  {
   "cell_type": "code",
   "execution_count": 18,
   "metadata": {},
   "outputs": [
    {
     "name": "stdout",
     "output_type": "stream",
     "text": [
      "Before function call\n",
      "Inside the function\n",
      "After the function call\n"
     ]
    }
   ],
   "source": [
    "def change(f):\n",
    "    def wrapped(*args, **kwargs):\n",
    "        print (\"Before function call\")\n",
    "        print(f(*args, **kwargs))\n",
    "        print(\"After the function call\")\n",
    "    return wrapped\n",
    "\n",
    "@change\n",
    "def smth():\n",
    "    return \"Inside the function\"\n",
    "smth()"
   ]
  },
  {
   "cell_type": "code",
   "execution_count": 22,
   "metadata": {},
   "outputs": [
    {
     "data": {
      "text/plain": [
       "'Hi everyone !!! Welcome to the party.'"
      ]
     },
     "execution_count": 22,
     "metadata": {},
     "output_type": "execute_result"
    }
   ],
   "source": [
    "def s(f):\n",
    "    def wrapped(*args, **kwargs):       \n",
    "        return f(*args, **kwargs).capitalize()\n",
    "    return wrapped\n",
    "\n",
    "def add(f):\n",
    "    def wrapped():\n",
    "        return f() + \" \" + \"!!! Welcome to the party.\"\n",
    "    return wrapped\n",
    "\n",
    "@add\n",
    "@s\n",
    "def hi():\n",
    "    return \"HI EVERYONE\"\n",
    "\n",
    "hi()"
   ]
  },
  {
   "cell_type": "code",
   "execution_count": 27,
   "metadata": {},
   "outputs": [
    {
     "data": {
      "text/plain": [
       "22"
      ]
     },
     "execution_count": 27,
     "metadata": {},
     "output_type": "execute_result"
    }
   ],
   "source": [
    "def list_func(list1):\n",
    "     for i in list1:\n",
    "        yield i\n",
    "\n",
    "my_nums = list_func([11,22,33,44,55])\n",
    "\n",
    "next(my_nums)\n",
    "next(my_nums)"
   ]
  },
  {
   "cell_type": "code",
   "execution_count": 48,
   "metadata": {},
   "outputs": [
    {
     "data": {
      "text/plain": [
       "4"
      ]
     },
     "execution_count": 48,
     "metadata": {},
     "output_type": "execute_result"
    }
   ],
   "source": [
    "def  power(max):\n",
    "    nums = list(range(max))\n",
    "    for i in nums:\n",
    "        yield (2**i)\n",
    "        \n",
    "m = power(5)\n",
    "next(m)\n",
    "next(m)\n",
    "next(m)"
   ]
  }
 ],
 "metadata": {
  "kernelspec": {
   "display_name": "Python 3",
   "language": "python",
   "name": "python3"
  },
  "language_info": {
   "codemirror_mode": {
    "name": "ipython",
    "version": 3
   },
   "file_extension": ".py",
   "mimetype": "text/x-python",
   "name": "python",
   "nbconvert_exporter": "python",
   "pygments_lexer": "ipython3",
   "version": "3.8.3"
  }
 },
 "nbformat": 4,
 "nbformat_minor": 4
}
