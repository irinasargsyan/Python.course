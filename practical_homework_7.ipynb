{
 "cells": [
  {
   "cell_type": "markdown",
   "metadata": {},
   "source": [
    "## Problem 1\n",
    "\n",
    "```\n",
    "Use prototype pattern and classes of your choice. create an abstract class Shape and concrete classes extending the Shape class: Circle, Square and Rectangle. Define a class ShapeCache which stores shape objects in a dictionary and returns their clones when requested.\n",
    "```"
   ]
  },
  {
   "cell_type": "code",
   "execution_count": 5,
   "metadata": {},
   "outputs": [
    {
     "name": "stdout",
     "output_type": "stream",
     "text": [
      "Small\n",
      "Circle shape\n",
      "None\n",
      "Middle\n",
      "Square shape\n",
      "None\n",
      "Big\n",
      "Rectangle shape\n",
      "None\n"
     ]
    }
   ],
   "source": [
    "from abc import ABCMeta, abstractmethod\n",
    "import copy\n",
    "\n",
    "class Shape(metaclass = ABCMeta):\n",
    "    \n",
    "    def __init__(self):\n",
    "        self.id = None\n",
    "        self.type = None\n",
    "        \n",
    "    @abstractmethod\n",
    "    def shape(self):\n",
    "        pass\n",
    "        \n",
    "    def get_type(self):\n",
    "        return self.type\n",
    "  \n",
    "    def get_id(self):\n",
    "        return self.id\n",
    "  \n",
    "    def set_id(self, sid):\n",
    "        self.id = sid\n",
    "  \n",
    "    def clone(self):\n",
    "        return copy.copy(self)\n",
    "    \n",
    "    \n",
    "class Circle(Shape):\n",
    "    \n",
    "    def __init__(self):\n",
    "        super().__init__()\n",
    "        self.type = \"Small\"\n",
    "    \n",
    "    def shape(self):\n",
    "        print(\"Circle shape\")\n",
    "        \n",
    "\n",
    "class Square(Shape):\n",
    "    \n",
    "    def __init__(self):\n",
    "        super().__init__()\n",
    "        self.type = \"Middle\"\n",
    "    \n",
    "    def shape(self):\n",
    "        print(\"Square shape\")\n",
    "        \n",
    "        \n",
    "class Rectangle(Shape):\n",
    "    \n",
    "    def __init__(self):\n",
    "        super().__init__()\n",
    "        self.type = \"Big\"\n",
    "    \n",
    "    def shape(self):\n",
    "        print(\"Rectangle shape\")       \n",
    "\n",
    "\n",
    "class ShapeCache:\n",
    "    \n",
    "    cache = {}\n",
    "    \n",
    "    @staticmethod\n",
    "    def get_shape(sid):\n",
    "        SHAPE = ShapeCache.cache.get(sid, None)\n",
    "        return SHAPE.clone()\n",
    "    \n",
    "    \n",
    "    @staticmethod\n",
    "    def load():\n",
    "        circle = Circle()\n",
    "        circle.set_id(\"1\")\n",
    "        ShapeCache.cache[circle.get_id()] = circle\n",
    "  \n",
    "        square = Square()\n",
    "        square.set_id(\"2\")\n",
    "        ShapeCache.cache[square.get_id()] = square\n",
    "  \n",
    "        rectangle = Rectangle()\n",
    "        rectangle.set_id(\"3\")\n",
    "        ShapeCache.cache[rectangle.get_id()] = rectangle\n",
    "        \n",
    "               \n",
    "ShapeCache.load()\n",
    "\n",
    "circle = ShapeCache.get_shape(\"1\")\n",
    "print(circle.get_type())\n",
    "print(circle.shape())\n",
    "\n",
    "square = ShapeCache.get_shape(\"2\")\n",
    "print(square.get_type())\n",
    "print(square.shape())\n",
    "\n",
    "rectangle = ShapeCache.get_shape(\"3\")\n",
    "print(rectangle.get_type())\n",
    "print(rectangle.shape())"
   ]
  },
  {
   "cell_type": "code",
   "execution_count": 6,
   "metadata": {},
   "outputs": [
    {
     "name": "stdout",
     "output_type": "stream",
     "text": [
      "Circle shape\n",
      "None\n"
     ]
    }
   ],
   "source": [
    "print(circle.shape())"
   ]
  },
  {
   "cell_type": "markdown",
   "metadata": {},
   "source": [
    "## Problem 2\n",
    "\n",
    "```\n",
    "Use adapter pattern and classes of your choice. Create a structure where you have 1-2 adaptees that have a method that returns some text in spanish. Have an adapter which will have a method that translates the text to english.\n",
    "```"
   ]
  },
  {
   "cell_type": "code",
   "execution_count": 2,
   "metadata": {
    "scrolled": true
   },
   "outputs": [
    {
     "name": "stdout",
     "output_type": "stream",
     "text": [
      "Collecting googletrans==3.1.0a0\n",
      "  Downloading googletrans-3.1.0a0.tar.gz (19 kB)\n",
      "Requirement already satisfied: httpx==0.13.3 in c:\\users\\hp\\anaconda3\\lib\\site-packages (from googletrans==3.1.0a0) (0.13.3)\n",
      "Requirement already satisfied: httpcore==0.9.* in c:\\users\\hp\\anaconda3\\lib\\site-packages (from httpx==0.13.3->googletrans==3.1.0a0) (0.9.1)\n",
      "Requirement already satisfied: sniffio in c:\\users\\hp\\anaconda3\\lib\\site-packages (from httpx==0.13.3->googletrans==3.1.0a0) (1.2.0)\n",
      "Requirement already satisfied: rfc3986<2,>=1.3 in c:\\users\\hp\\anaconda3\\lib\\site-packages (from httpx==0.13.3->googletrans==3.1.0a0) (1.5.0)\n",
      "Requirement already satisfied: certifi in c:\\users\\hp\\anaconda3\\lib\\site-packages (from httpx==0.13.3->googletrans==3.1.0a0) (2020.6.20)\n",
      "Requirement already satisfied: hstspreload in c:\\users\\hp\\anaconda3\\lib\\site-packages (from httpx==0.13.3->googletrans==3.1.0a0) (2021.7.5)\n",
      "Requirement already satisfied: idna==2.* in c:\\users\\hp\\anaconda3\\lib\\site-packages (from httpx==0.13.3->googletrans==3.1.0a0) (2.10)\n",
      "Requirement already satisfied: chardet==3.* in c:\\users\\hp\\anaconda3\\lib\\site-packages (from httpx==0.13.3->googletrans==3.1.0a0) (3.0.4)\n",
      "Requirement already satisfied: h11<0.10,>=0.8 in c:\\users\\hp\\anaconda3\\lib\\site-packages (from httpcore==0.9.*->httpx==0.13.3->googletrans==3.1.0a0) (0.9.0)\n",
      "Requirement already satisfied: h2==3.* in c:\\users\\hp\\anaconda3\\lib\\site-packages (from httpcore==0.9.*->httpx==0.13.3->googletrans==3.1.0a0) (3.2.0)\n",
      "Requirement already satisfied: hyperframe<6,>=5.2.0 in c:\\users\\hp\\anaconda3\\lib\\site-packages (from h2==3.*->httpcore==0.9.*->httpx==0.13.3->googletrans==3.1.0a0) (5.2.0)\n",
      "Requirement already satisfied: hpack<4,>=3.0 in c:\\users\\hp\\anaconda3\\lib\\site-packages (from h2==3.*->httpcore==0.9.*->httpx==0.13.3->googletrans==3.1.0a0) (3.0.0)\n",
      "Building wheels for collected packages: googletrans\n",
      "  Building wheel for googletrans (setup.py): started\n",
      "  Building wheel for googletrans (setup.py): finished with status 'done'\n",
      "  Created wheel for googletrans: filename=googletrans-3.1.0a0-py3-none-any.whl size=16375 sha256=67ff8b199dadc3c1a640f9800121b5a25a437ffe85e509c12fc2dfe012c34d59\n",
      "  Stored in directory: c:\\users\\hp\\appdata\\local\\pip\\cache\\wheels\\dd\\59\\af\\8d6c96a719763990f1c548e36b17d9efdfb767f42f7ff39f53\n",
      "Successfully built googletrans\n",
      "Installing collected packages: googletrans\n",
      "  Attempting uninstall: googletrans\n",
      "    Found existing installation: googletrans 3.0.0\n",
      "    Uninstalling googletrans-3.0.0:\n",
      "      Successfully uninstalled googletrans-3.0.0\n",
      "Successfully installed googletrans-3.1.0a0\n",
      "Note: you may need to restart the kernel to use updated packages.\n"
     ]
    }
   ],
   "source": [
    "pip install googletrans==3.1.0a0"
   ]
  },
  {
   "cell_type": "code",
   "execution_count": 3,
   "metadata": {},
   "outputs": [],
   "source": [
    "from googletrans import Translator, constants\n",
    "from pprint import pprint"
   ]
  },
  {
   "cell_type": "code",
   "execution_count": 5,
   "metadata": {},
   "outputs": [],
   "source": [
    "translator = Translator()"
   ]
  },
  {
   "cell_type": "code",
   "execution_count": 14,
   "metadata": {},
   "outputs": [],
   "source": [
    "import abc\n",
    " \n",
    "class Target(metaclass=abc.ABCMeta):\n",
    " \n",
    "    def __init__(self):\n",
    "        self._adaptee1 = Spanish()\n",
    "        self._adaptee2 = French()\n",
    " \n",
    "    @abc.abstractmethod\n",
    "    def request(self):\n",
    "        pass\n",
    "    \n",
    "    \n",
    "class Spanish:\n",
    "\n",
    "    def spanish_request(self):\n",
    "        return \"Divide y vencerás\"\n",
    "    \n",
    "    \n",
    "class French:\n",
    "\n",
    "    def french_request(self):\n",
    "        return \"Tous les chemins mènent à Rome\"\n",
    "    \n",
    "    \n",
    "class Adapter(Target):\n",
    " \n",
    "    def request(self):\n",
    "        translation1 = translator.translate(self._adaptee1.spanish_request())\n",
    "        translation2 = translator.translate(self._adaptee2.french_request())\n",
    "        print(translation1.text)\n",
    "        print(translation2.text)"
   ]
  },
  {
   "cell_type": "code",
   "execution_count": 15,
   "metadata": {},
   "outputs": [
    {
     "name": "stdout",
     "output_type": "stream",
     "text": [
      "Divide and conquer\n",
      "All roads lead to Rome\n"
     ]
    }
   ],
   "source": [
    "adapter = Adapter()\n",
    "adapter.request()"
   ]
  },
  {
   "cell_type": "markdown",
   "metadata": {},
   "source": [
    "## Problem 3\n",
    "\n",
    "```\n",
    "Use singleton pattern and classes of your choice. Create a structure where you have some resource that has states busy and free and 3 users that try to use the resource and change the state to busy while they are using it. The resource should be singleton. Implement following 2 different methods for singleton implementation that we have discussion. \n",
    "```"
   ]
  },
  {
   "cell_type": "code",
   "execution_count": 3,
   "metadata": {},
   "outputs": [
    {
     "name": "stdout",
     "output_type": "stream",
     "text": [
      "busy state\n",
      "busy state\n",
      "busy state\n"
     ]
    }
   ],
   "source": [
    "class Borg:\n",
    "  \n",
    "    __shared_state = dict()\n",
    "    \n",
    "    def __init__(self):\n",
    "  \n",
    "        self.__dict__ = self.__shared_state\n",
    "        self.state = 'free state'\n",
    "  \n",
    "    def __str__(self):\n",
    "  \n",
    "        return self.state\n",
    "  \n",
    "    \n",
    "user1 = Borg()   \n",
    "user2 = Borg()   \n",
    "user3 = Borg()  \n",
    "\n",
    "user1.state = 'busy state' \n",
    "user2.state = 'busy state'\n",
    "user3.state = 'busy state'   \n",
    "\n",
    "print(user1.state)\n",
    "print(user2.state)\n",
    "print(user3.state)"
   ]
  },
  {
   "cell_type": "code",
   "execution_count": 9,
   "metadata": {},
   "outputs": [],
   "source": [
    "class Singleton:\n",
    "  \n",
    "    __shared_instance = 'free state'\n",
    "  \n",
    "    @staticmethod\n",
    "    def getInstance():\n",
    "\n",
    "        if Singleton.__shared_instance == 'free state':\n",
    "            Singleton()\n",
    "        return Singleton.__shared_instance\n",
    "  \n",
    "    def __init__(self):\n",
    "  \n",
    "        if Singleton.__shared_instance != 'free state':\n",
    "            raise Exception (\"The resourse is busy\")\n",
    "        else:\n",
    "            Singleton.__shared_instance = self"
   ]
  },
  {
   "cell_type": "code",
   "execution_count": 10,
   "metadata": {},
   "outputs": [
    {
     "name": "stdout",
     "output_type": "stream",
     "text": [
      "<__main__.Singleton object at 0x000001E214831880>\n"
     ]
    }
   ],
   "source": [
    "user1 = Singleton()\n",
    "\n",
    "print(user1)"
   ]
  },
  {
   "cell_type": "code",
   "execution_count": 13,
   "metadata": {},
   "outputs": [
    {
     "name": "stdout",
     "output_type": "stream",
     "text": [
      "<__main__.Singleton object at 0x000001E214831880>\n"
     ]
    }
   ],
   "source": [
    "user1 = Singleton.getInstance()\n",
    "print(user1)"
   ]
  },
  {
   "cell_type": "code",
   "execution_count": 14,
   "metadata": {},
   "outputs": [
    {
     "ename": "Exception",
     "evalue": "The resourse is busy",
     "output_type": "error",
     "traceback": [
      "\u001b[1;31m---------------------------------------------------------------------------\u001b[0m",
      "\u001b[1;31mException\u001b[0m                                 Traceback (most recent call last)",
      "\u001b[1;32m<ipython-input-14-48f6014970b5>\u001b[0m in \u001b[0;36m<module>\u001b[1;34m\u001b[0m\n\u001b[1;32m----> 1\u001b[1;33m \u001b[0muser2\u001b[0m \u001b[1;33m=\u001b[0m \u001b[0mSingleton\u001b[0m\u001b[1;33m(\u001b[0m\u001b[1;33m)\u001b[0m\u001b[1;33m\u001b[0m\u001b[1;33m\u001b[0m\u001b[0m\n\u001b[0m",
      "\u001b[1;32m<ipython-input-9-4e9562ee3087>\u001b[0m in \u001b[0;36m__init__\u001b[1;34m(self)\u001b[0m\n\u001b[0;32m     13\u001b[0m \u001b[1;33m\u001b[0m\u001b[0m\n\u001b[0;32m     14\u001b[0m         \u001b[1;32mif\u001b[0m \u001b[0mSingleton\u001b[0m\u001b[1;33m.\u001b[0m\u001b[0m__shared_instance\u001b[0m \u001b[1;33m!=\u001b[0m \u001b[1;34m'free state'\u001b[0m\u001b[1;33m:\u001b[0m\u001b[1;33m\u001b[0m\u001b[1;33m\u001b[0m\u001b[0m\n\u001b[1;32m---> 15\u001b[1;33m             \u001b[1;32mraise\u001b[0m \u001b[0mException\u001b[0m \u001b[1;33m(\u001b[0m\u001b[1;34m\"The resourse is busy\"\u001b[0m\u001b[1;33m)\u001b[0m\u001b[1;33m\u001b[0m\u001b[1;33m\u001b[0m\u001b[0m\n\u001b[0m\u001b[0;32m     16\u001b[0m         \u001b[1;32melse\u001b[0m\u001b[1;33m:\u001b[0m\u001b[1;33m\u001b[0m\u001b[1;33m\u001b[0m\u001b[0m\n\u001b[0;32m     17\u001b[0m             \u001b[0mSingleton\u001b[0m\u001b[1;33m.\u001b[0m\u001b[0m__shared_instance\u001b[0m \u001b[1;33m=\u001b[0m \u001b[0mself\u001b[0m\u001b[1;33m\u001b[0m\u001b[1;33m\u001b[0m\u001b[0m\n",
      "\u001b[1;31mException\u001b[0m: The resourse is busy"
     ]
    }
   ],
   "source": [
    "user2 = Singleton()"
   ]
  }
 ],
 "metadata": {
  "kernelspec": {
   "display_name": "Python 3",
   "language": "python",
   "name": "python3"
  },
  "language_info": {
   "codemirror_mode": {
    "name": "ipython",
    "version": 3
   },
   "file_extension": ".py",
   "mimetype": "text/x-python",
   "name": "python",
   "nbconvert_exporter": "python",
   "pygments_lexer": "ipython3",
   "version": "3.8.3"
  }
 },
 "nbformat": 4,
 "nbformat_minor": 4
}
