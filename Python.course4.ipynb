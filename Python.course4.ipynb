{
 "cells": [
  {
   "cell_type": "code",
   "execution_count": 2,
   "metadata": {},
   "outputs": [
    {
     "name": "stdout",
     "output_type": "stream",
     "text": [
      "today\n",
      "february\n",
      "{1: 'hello', 2: 'winter'}\n",
      "{1: 'hello', 2: 'winter', 'today': 'february'}\n"
     ]
    }
   ],
   "source": [
    "dict1 = {1 : \"hello\", 2 : \"winter\"}\n",
    "key = input()\n",
    "value = input()\n",
    "print(dict1)\n",
    "dict1[key] = value\n",
    "print(dict1)"
   ]
  },
  {
   "cell_type": "code",
   "execution_count": 8,
   "metadata": {},
   "outputs": [
    {
     "name": "stdout",
     "output_type": "stream",
     "text": [
      "{1: 'a', 2: 'b', 3: 'c'}\n"
     ]
    }
   ],
   "source": [
    "l1 =  [(1, 'a'), (2, 'b'), (3, 'c')]\n",
    "key1 = l1[0][0]\n",
    "key2 = l1[1][0]\n",
    "key3 = l1[2][0]\n",
    "value1 = l1[0][1]\n",
    "value2 = l1[1][1]\n",
    "value3 = l1[2][1]\n",
    "d1 = {}\n",
    "d1[key1] = value1\n",
    "d1[key2] = value2\n",
    "d1[key3] = value3\n",
    "print(d1)"
   ]
  },
  {
   "cell_type": "code",
   "execution_count": 11,
   "metadata": {},
   "outputs": [
    {
     "name": "stdout",
     "output_type": "stream",
     "text": [
      "5\n",
      "13\n",
      "the number 13 is the greatest\n"
     ]
    }
   ],
   "source": [
    "n1 = int(input())\n",
    "n2 = int(input())\n",
    "\n",
    "if n1 > n2:\n",
    "    print(\"the number\" + \" \" + str(n1) + \" \" + \"is the greatest\")\n",
    "elif n2 > n1:\n",
    "    print(\"the number\" + \" \" + str(n2) + \" \" + \"is the greatest\")"
   ]
  },
  {
   "cell_type": "code",
   "execution_count": 17,
   "metadata": {},
   "outputs": [
    {
     "name": "stdout",
     "output_type": "stream",
     "text": [
      "Welcome Mr. Batman!\n"
     ]
    }
   ],
   "source": [
    "name = 'Batman'\n",
    "age = 19\n",
    "password = '221b'\n",
    "\n",
    "if name == 'Batman':\n",
    "    print(\"Welcome Mr. Batman!\")\n",
    "    \n",
    "if age < 16:\n",
    "    print('Dear' + \" \" + str(name) + \" \" + ', you are too young toregister')\n",
    "    \n",
    "if '*' in password or '&' in password:\n",
    "    print('Please enter a different password')"
   ]
  },
  {
   "cell_type": "code",
   "execution_count": 2,
   "metadata": {},
   "outputs": [
    {
     "name": "stdout",
     "output_type": "stream",
     "text": [
      "8\n",
      "{'name': 'Armen', 'age': 15, 'grades': [10, 8, 8, 4, 6, 7], 'weight': 8}\n"
     ]
    }
   ],
   "source": [
    "d = {'name': 'Armen', 'age': 15, 'grades': [10, 8, 8, 4, 6, 7]}\n",
    "\n",
    "if \"weight\" not in d.keys():\n",
    "    n = int(input())\n",
    "    d[\"weight\"] = n\n",
    "    print(d)\n",
    "else:\n",
    "    print(d)"
   ]
  }
 ],
 "metadata": {
  "kernelspec": {
   "display_name": "Python 3",
   "language": "python",
   "name": "python3"
  }
 },
 "nbformat": 4,
 "nbformat_minor": 4
}
