{
 "cells": [
  {
   "cell_type": "markdown",
   "metadata": {},
   "source": [
    "### Open the file file1.txt\n",
    "### Բացեք file1.txt-ն"
   ]
  },
  {
   "cell_type": "code",
   "execution_count": 1,
   "metadata": {},
   "outputs": [],
   "source": [
    "file1 = open(\"file1.txt\")"
   ]
  },
  {
   "cell_type": "markdown",
   "metadata": {},
   "source": [
    "### Get the first 10 lines of the file file1.txt \n",
    "### Ստացեք file1.txt ֆայլի առաջին 10 տողերը"
   ]
  },
  {
   "cell_type": "code",
   "execution_count": 3,
   "metadata": {},
   "outputs": [
    {
     "name": "stdout",
     "output_type": "stream",
     "text": [
      "This is the 1st line of file1\n",
      "\n",
      "This is the 2nd line of file1\n",
      "\n",
      "This is the 3rd line of file1\n",
      "\n",
      "This is the 4th line of file1\n",
      "\n",
      "This is the 5th line of file1\n",
      "\n",
      "This is the 6th line of file1\n",
      "\n",
      "This is the 7th line of file1\n",
      "\n",
      "This is the 8th line of file1\n",
      "\n",
      "This is the 9th line of file1\n",
      "\n",
      "This is the 10th line of file1\n"
     ]
    }
   ],
   "source": [
    "for i in range(10):\n",
    "    line = file1.readline()\n",
    "    print(line)"
   ]
  },
  {
   "cell_type": "markdown",
   "metadata": {},
   "source": [
    "### Write a try ... except clause for opening the file\n",
    "### Օգտագործեք try ... except բլոկ ֆայլը բացելու համար"
   ]
  },
  {
   "cell_type": "code",
   "execution_count": 6,
   "metadata": {},
   "outputs": [
    {
     "name": "stdout",
     "output_type": "stream",
     "text": [
      "exit\n"
     ]
    }
   ],
   "source": [
    "try:\n",
    "    file1 = open(\"file1.txt\")\n",
    "except IOError:\n",
    "    print(\"File not found or path is incorrect\")\n",
    "finally:\n",
    "    print(\"exit\")"
   ]
  },
  {
   "cell_type": "markdown",
   "metadata": {},
   "source": [
    "### Find the number of lines in the file. \n",
    "### Գտեք ֆայլի տողերի քանակը"
   ]
  },
  {
   "cell_type": "code",
   "execution_count": 7,
   "metadata": {},
   "outputs": [
    {
     "name": "stdout",
     "output_type": "stream",
     "text": [
      "10\n"
     ]
    }
   ],
   "source": [
    "line_count = 0\n",
    "for line in file1:\n",
    "    if line != \"\\n\":\n",
    "        line_count += 1\n",
    "file1.close()\n",
    "\n",
    "print(line_count)"
   ]
  },
  {
   "cell_type": "markdown",
   "metadata": {},
   "source": [
    "### Create a list each entry of which will be a line from our file. Ignore the new line characters ('\\n').\n",
    "### Ստեղծեք list, որը յուրաքանչյուր տարր իրենից ներկայացնում է մեր ֆայլի մեկ տող, անտեսեք '\\n'-երը"
   ]
  },
  {
   "cell_type": "code",
   "execution_count": 9,
   "metadata": {},
   "outputs": [
    {
     "data": {
      "text/plain": [
       "['This is the 1st line of file1',\n",
       " 'This is the 2nd line of file1',\n",
       " 'This is the 3rd line of file1',\n",
       " 'This is the 4th line of file1',\n",
       " 'This is the 5th line of file1',\n",
       " 'This is the 6th line of file1',\n",
       " 'This is the 7th line of file1',\n",
       " 'This is the 8th line of file1',\n",
       " 'This is the 9th line of file1',\n",
       " 'This is the 10th line of file1']"
      ]
     },
     "execution_count": 9,
     "metadata": {},
     "output_type": "execute_result"
    }
   ],
   "source": [
    "file1 = open(\"file1.txt\")\n",
    "file1.read().splitlines()"
   ]
  },
  {
   "cell_type": "markdown",
   "metadata": {},
   "source": [
    "### Open and read the file file2.txt\n",
    "### Բացեք և կարդացեք file2.txt ֆայլը"
   ]
  },
  {
   "cell_type": "code",
   "execution_count": 10,
   "metadata": {},
   "outputs": [
    {
     "data": {
      "text/plain": [
       "'This is the 1st line of file2\\nThis is the 2nd line of file2\\nThis is the 3rd line of file2\\nThis is the 4th line of file2\\nThis is the 5th line of file2'"
      ]
     },
     "execution_count": 10,
     "metadata": {},
     "output_type": "execute_result"
    }
   ],
   "source": [
    "file2 = open(\"file2.txt\")\n",
    "file2.read()"
   ]
  },
  {
   "cell_type": "markdown",
   "metadata": {},
   "source": [
    "### Read the file file2.txt line by line and write its contents into the new file file3.txt\n",
    "### Տող առ տող կարդացեք file2.txt ֆայլը ու իր պարունակությունը գրեք նոր file3.txt ֆայլում"
   ]
  },
  {
   "cell_type": "code",
   "execution_count": 13,
   "metadata": {},
   "outputs": [
    {
     "name": "stdout",
     "output_type": "stream",
     "text": [
      "This is the 1st line of file2\n",
      "\n",
      "This is the 2nd line of file2\n",
      "\n",
      "This is the 3rd line of file2\n",
      "\n",
      "This is the 4th line of file2\n",
      "\n",
      "This is the 5th line of file2\n"
     ]
    }
   ],
   "source": [
    "file2 = open(\"file2.txt\")\n",
    "for line in file2:\n",
    "    print(line)\n",
    "file2.close()"
   ]
  },
  {
   "cell_type": "code",
   "execution_count": 14,
   "metadata": {},
   "outputs": [],
   "source": [
    "with open(\"file2.txt\") as f:\n",
    "    with open(\"file3.txt\", \"w\") as f1:\n",
    "        for line in f:\n",
    "            f1.write(line)"
   ]
  },
  {
   "cell_type": "code",
   "execution_count": 15,
   "metadata": {},
   "outputs": [
    {
     "name": "stdout",
     "output_type": "stream",
     "text": [
      "This is the 1st line of file2\n",
      "\n",
      "This is the 2nd line of file2\n",
      "\n",
      "This is the 3rd line of file2\n",
      "\n",
      "This is the 4th line of file2\n",
      "\n",
      "This is the 5th line of file2\n"
     ]
    }
   ],
   "source": [
    "file3 = open(\"file3.txt\")\n",
    "for line in file3:\n",
    "    print(line)\n",
    "file3.close()"
   ]
  },
  {
   "cell_type": "markdown",
   "metadata": {},
   "source": [
    "### Read the file file2.txt line by line and write its contents at the end of the file file1.txt\n",
    "### Տող առ տող կարդացեք file2.txt ֆայլը ու իր պարունակությունը կցեք  file1.txt ֆայլի վերջից"
   ]
  },
  {
   "cell_type": "code",
   "execution_count": 32,
   "metadata": {},
   "outputs": [],
   "source": [
    "file1 = open('file1.txt', 'a+')\n",
    "file2 = open(\"file2.txt\", \"r\")\n",
    "file1.write(file2.read())\n",
    "file1.close()\n",
    "file2.close()"
   ]
  },
  {
   "cell_type": "code",
   "execution_count": 33,
   "metadata": {},
   "outputs": [
    {
     "name": "stdout",
     "output_type": "stream",
     "text": [
      "This is the 1st line of file1\n",
      "\n",
      "This is the 2nd line of file1\n",
      "\n",
      "This is the 3rd line of file1\n",
      "\n",
      "This is the 4th line of file1\n",
      "\n",
      "This is the 5th line of file1\n",
      "\n",
      "This is the 6th line of file1\n",
      "\n",
      "This is the 7th line of file1\n",
      "\n",
      "This is the 8th line of file1\n",
      "\n",
      "This is the 9th line of file1\n",
      "\n",
      "This is the 10th line of file1This is the 1st line of file2\n",
      "\n",
      "This is the 2nd line of file2\n",
      "\n",
      "This is the 3rd line of file2\n",
      "\n",
      "This is the 4th line of file2\n",
      "\n",
      "This is the 5th line of file2\n"
     ]
    }
   ],
   "source": [
    "file1 = open(\"file1.txt\")\n",
    "for line in file1:\n",
    "    print(line)\n",
    "file1.close()    "
   ]
  },
  {
   "cell_type": "code",
   "execution_count": 34,
   "metadata": {},
   "outputs": [],
   "source": [
    "file1 = open('file1.txt', 'a+')\n",
    "file2 = open(\"file2.txt\", \"r\")\n",
    "with open(\"file1.txt\", \"a+\") as file_object:\n",
    "    file1.seek(0)\n",
    "    data = file1.read(100)\n",
    "    if len(data) > 0 :\n",
    "        file1.write(\"\\n\")\n",
    "    file1.write(file2.read())"
   ]
  },
  {
   "cell_type": "code",
   "execution_count": 35,
   "metadata": {},
   "outputs": [
    {
     "name": "stdout",
     "output_type": "stream",
     "text": [
      "This is the 1st line of file1\n",
      "\n",
      "This is the 2nd line of file1\n",
      "\n",
      "This is the 3rd line of file1\n",
      "\n",
      "This is the 4th line of file1\n",
      "\n",
      "This is the 5th line of file1\n",
      "\n",
      "This is the 6th line of file1\n",
      "\n",
      "This is the 7th line of file1\n",
      "\n",
      "This is the 8th line of file1\n",
      "\n",
      "This is the 9th line of file1\n",
      "\n",
      "This is the 10th line of file1\n",
      "\n",
      "This is the 1st line of file2\n",
      "\n",
      "This is the 2nd line of file2\n",
      "\n",
      "This is the 3rd line of file2\n",
      "\n",
      "This is the 4th line of file2\n",
      "\n",
      "This is the 5th line of file2\n"
     ]
    }
   ],
   "source": [
    "file1 = open(\"file1.txt\")\n",
    "for line in file1:\n",
    "    print(line)\n",
    "file1.close() "
   ]
  },
  {
   "cell_type": "markdown",
   "metadata": {},
   "source": [
    "### * Write a Python program to read a random line from the file file1.txt.\n",
    "### Գրեք ծրագիր, որի արդյունքում կստանանք file1.txt ֆայլի մեկ պատահական տող  "
   ]
  },
  {
   "cell_type": "code",
   "execution_count": 47,
   "metadata": {},
   "outputs": [
    {
     "name": "stdout",
     "output_type": "stream",
     "text": [
      "This is the 8th line of file1\n"
     ]
    }
   ],
   "source": [
    "import random\n",
    "def random_line(fname):\n",
    "    lines = open(fname).read().splitlines()\n",
    "    return random.choice(lines)\n",
    "print(random_line('file1.txt'))"
   ]
  }
 ],
 "metadata": {
  "kernelspec": {
   "display_name": "Python 3",
   "language": "python",
   "name": "python3"
  },
  "language_info": {
   "codemirror_mode": {
    "name": "ipython",
    "version": 3
   },
   "file_extension": ".py",
   "mimetype": "text/x-python",
   "name": "python",
   "nbconvert_exporter": "python",
   "pygments_lexer": "ipython3",
   "version": "3.8.3"
  }
 },
 "nbformat": 4,
 "nbformat_minor": 2
}
