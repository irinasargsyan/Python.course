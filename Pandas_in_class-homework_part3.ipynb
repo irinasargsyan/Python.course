{
 "cells": [
  {
   "cell_type": "markdown",
   "metadata": {},
   "source": [
    "### Import the library pandas as pd\n",
    "\n",
    "#### Import արեք pandas գրադարանը pd  անունով"
   ]
  },
  {
   "cell_type": "code",
   "execution_count": 7,
   "metadata": {},
   "outputs": [],
   "source": []
  },
  {
   "cell_type": "markdown",
   "metadata": {},
   "source": [
    "### Import the dataset gender.txt, assign to a variable gender\n",
    "\n",
    "### Import արեք gender.txt dataset-ը, վերագրեք այն gender փոփոխականին"
   ]
  },
  {
   "cell_type": "code",
   "execution_count": null,
   "metadata": {},
   "outputs": [],
   "source": []
  },
  {
   "cell_type": "markdown",
   "metadata": {},
   "source": [
    "### Check the datatypes in the dataframe\n",
    "\n",
    "### Ստուգեք աղյուսակի սյուների տիպերը"
   ]
  },
  {
   "cell_type": "code",
   "execution_count": null,
   "metadata": {},
   "outputs": [],
   "source": []
  },
  {
   "cell_type": "markdown",
   "metadata": {},
   "source": [
    "### Convert the datatype of the column 'occupation' into categorical\n",
    "\n",
    "### Վերածեք 'occupation' սյունը categorical տիպի"
   ]
  },
  {
   "cell_type": "code",
   "execution_count": null,
   "metadata": {},
   "outputs": [],
   "source": []
  },
  {
   "cell_type": "markdown",
   "metadata": {},
   "source": [
    "### Replace the values in the column 'gender' with Male and Female accordingly. Do this with 2 methods: using apply and map.\n",
    "\n",
    "### Փոխարինեք  'gender' սյան արժեքները Male և Female արժեքներով, արեք սա երկու տարբերակով՝ գործածելով apply և map ֆունկցիաները"
   ]
  },
  {
   "cell_type": "code",
   "execution_count": null,
   "metadata": {},
   "outputs": [],
   "source": []
  },
  {
   "cell_type": "markdown",
   "metadata": {},
   "source": [
    "### Calculate the mean, median and std of age values for each occupation\n",
    "\n",
    "### Հաշվեք age սյան mean, median և std արժեքները occupation սյան ամեն արժեքի համար"
   ]
  },
  {
   "cell_type": "code",
   "execution_count": null,
   "metadata": {},
   "outputs": [],
   "source": []
  },
  {
   "cell_type": "markdown",
   "metadata": {},
   "source": [
    "### Create a new column 'birth_year' and get the birth year of each individual using the values from the column 'age'\n",
    "\n",
    "### Ստեղծեք 'birth_year' անունով նոր սյուն, որում կպահեք ամեն մարդու ծննդյան տարին, որը կստանաք օգտագործելով 'birth_year' սյան արժեքները"
   ]
  },
  {
   "cell_type": "code",
   "execution_count": null,
   "metadata": {},
   "outputs": [],
   "source": []
  },
  {
   "cell_type": "markdown",
   "metadata": {},
   "source": [
    "### Create a new column 'birth_date' using the column 'birth_year' and current month and day values\"\n",
    "\n",
    "### Ստեղծեք 'birth_date' անունով նոր սյուն, որի արժեքները կստանաք գործածելով 'birth_year' սյան արժեքները ինչպես նաև այս պահի ամիսն ու օրը։ "
   ]
  },
  {
   "cell_type": "code",
   "execution_count": null,
   "metadata": {},
   "outputs": [],
   "source": []
  },
  {
   "cell_type": "markdown",
   "metadata": {},
   "source": [
    "### Make sure the datatype of the columns 'birth_year' and 'birth_date' is datetime\n",
    "\n",
    "### Վստահ եղեք, որ 'birth_year' և 'birth_date' սյուները datetime տիպի են"
   ]
  },
  {
   "cell_type": "code",
   "execution_count": null,
   "metadata": {},
   "outputs": [],
   "source": []
  },
  {
   "cell_type": "markdown",
   "metadata": {},
   "source": [
    "### Change the values in the column user_id to have the values of type string of the same length (use the method of your choice). As an example, if we have values 0, 1 and 100, we could have values '000', '001' and '100' as a result.\n",
    "\n",
    "### Փոխեք user_id սյան արժեքները նույն երկարություն ունեցող string տիպի արժեքներով՝ գործածելով Ձեր ցանկացած մեթոդը։ Որպես օրինակ, եթե ունեք 0, 1 և 100 աևժեքներ, Ձեր արդյունքը կարող է լինել '000', '001' և'100'"
   ]
  },
  {
   "cell_type": "code",
   "execution_count": null,
   "metadata": {},
   "outputs": [],
   "source": []
  }
 ],
 "metadata": {
  "colab": {
   "name": "In-class.ipynb",
   "provenance": [],
   "version": "0.3.2"
  },
  "kernelspec": {
   "display_name": "Python 3",
   "language": "python",
   "name": "python3"
  },
  "language_info": {
   "codemirror_mode": {
    "name": "ipython",
    "version": 3
   },
   "file_extension": ".py",
   "mimetype": "text/x-python",
   "name": "python",
   "nbconvert_exporter": "python",
   "pygments_lexer": "ipython3",
   "version": "3.7.4"
  }
 },
 "nbformat": 4,
 "nbformat_minor": 1
}
