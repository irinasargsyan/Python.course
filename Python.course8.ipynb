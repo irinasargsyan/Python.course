{
 "cells": [
  {
   "cell_type": "code",
   "execution_count": 30,
   "metadata": {},
   "outputs": [],
   "source": [
    "class Circle:\n",
    "    def __init__(self,radius,color):\n",
    "        self.radius = radius\n",
    "        self.color = color\n",
    "        \n",
    "    def getDesc(self):\n",
    "        print(\"A \" + str(self.color) + \" circle with \" + str(self.radius))"
   ]
  },
  {
   "cell_type": "code",
   "execution_count": 31,
   "metadata": {},
   "outputs": [
    {
     "name": "stdout",
     "output_type": "stream",
     "text": [
      "A red circle with 10\n"
     ]
    }
   ],
   "source": [
    "circ = Circle(10, 'red')\n",
    "circ.getDesc()"
   ]
  },
  {
   "cell_type": "code",
   "execution_count": 33,
   "metadata": {},
   "outputs": [],
   "source": [
    "class Employee:\n",
    "    def __init__(self, name, last_name, monthly_salary):\n",
    "        self.name = name\n",
    "        self.last_name = last_name\n",
    "        self.monthly_salary = monthly_salary\n",
    "        \n",
    "    def getFullName(self):\n",
    "        print(self.name + \" \" + self.last_name)\n",
    "        \n",
    "    def annualSalary(self):\n",
    "        if self.monthly_salary * 12 > 100:\n",
    "            print(\"High\")\n",
    "        else:\n",
    "            print(\"Low\")"
   ]
  },
  {
   "cell_type": "code",
   "execution_count": 34,
   "metadata": {},
   "outputs": [
    {
     "name": "stdout",
     "output_type": "stream",
     "text": [
      "Anna Sargsyan\n",
      "High\n"
     ]
    }
   ],
   "source": [
    "emp = Employee('Anna', 'Sargsyan', 200000)\n",
    "emp.getFullName()\n",
    "emp.annualSalary()"
   ]
  },
  {
   "cell_type": "code",
   "execution_count": 43,
   "metadata": {},
   "outputs": [],
   "source": [
    "class Police_car:\n",
    "    tax_value = 0.2\n",
    "    \n",
    "    def __init__(self,owner,price,pass_code):\n",
    "        self.owner = owner\n",
    "        self.price = price\n",
    "        self.__pass_code = pass_code\n",
    "        \n",
    "    def tax(self):\n",
    "        print(self.tax_value*self.price)\n",
    "        \n",
    "    def greating(self):\n",
    "        if self.__pass_code == \"admin\":\n",
    "            print(\"Welcome to your car \" + str(self.owner))\n",
    "        else:\n",
    "            print(\"Welcome to your car, OWNER\")\n",
    "            \n",
    "    def set_code(self, new_code):\n",
    "        self.__pass_code = new_code\n",
    "    \n",
    "    def get_code(self):\n",
    "        return self.__pass_code"
   ]
  },
  {
   "cell_type": "code",
   "execution_count": 44,
   "metadata": {},
   "outputs": [],
   "source": [
    "pol = Police_car(\"Thomas\",500,\"admin\")"
   ]
  },
  {
   "cell_type": "code",
   "execution_count": 45,
   "metadata": {},
   "outputs": [
    {
     "name": "stdout",
     "output_type": "stream",
     "text": [
      "100.0\n"
     ]
    }
   ],
   "source": [
    "pol.tax()"
   ]
  },
  {
   "cell_type": "code",
   "execution_count": 46,
   "metadata": {},
   "outputs": [
    {
     "name": "stdout",
     "output_type": "stream",
     "text": [
      "Welcome to your car Thomas\n"
     ]
    }
   ],
   "source": [
    "pol.greating()"
   ]
  },
  {
   "cell_type": "code",
   "execution_count": 47,
   "metadata": {},
   "outputs": [
    {
     "data": {
      "text/plain": [
       "'admin'"
      ]
     },
     "execution_count": 47,
     "metadata": {},
     "output_type": "execute_result"
    }
   ],
   "source": [
    "pol.get_code()"
   ]
  },
  {
   "cell_type": "code",
   "execution_count": 49,
   "metadata": {},
   "outputs": [
    {
     "name": "stdout",
     "output_type": "stream",
     "text": [
      "newcode\n"
     ]
    }
   ],
   "source": [
    "pol.set_code(\"newcode\")\n",
    "print(pol._Police_car__pass_code)"
   ]
  }
 ],
 "metadata": {
  "kernelspec": {
   "display_name": "Python 3",
   "language": "python",
   "name": "python3"
  },
  "language_info": {
   "codemirror_mode": {
    "name": "ipython",
    "version": 3
   },
   "file_extension": ".py",
   "mimetype": "text/x-python",
   "name": "python",
   "nbconvert_exporter": "python",
   "pygments_lexer": "ipython3",
   "version": "3.8.3"
  }
 },
 "nbformat": 4,
 "nbformat_minor": 4
}
