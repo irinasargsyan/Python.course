{
 "cells": [
  {
   "cell_type": "markdown",
   "metadata": {},
   "source": [
    "## Problem 1"
   ]
  },
  {
   "cell_type": "code",
   "execution_count": 18,
   "metadata": {},
   "outputs": [],
   "source": [
    "class Circle:\n",
    "    def __init__(self):\n",
    "        self.size = {\"big\": \"big circle\", \"medium\": \"medium circle\", \"small\": \"small circle\"}\n",
    "    def draw(self, msg):\n",
    "        return self.size.get(msg, msg)\n",
    "    \n",
    "class Square:\n",
    "    def __init__(self):\n",
    "        self.size = {\"big\": \"big square\", \"medium\": \"medium square\", \"small\": \"small square\"}\n",
    "    def draw(self, msg):\n",
    "        return self.size.get(msg, msg)\n",
    "    \n",
    "class Triangle:\n",
    "    def __init__(self):\n",
    "        self.size = {\"big\": \"big triangle\", \"medium\": \"medium triangle\", \"small\": \"small triangle\"}\n",
    "    def draw(self, msg):\n",
    "        return self.size.get(msg, msg)\n",
    "    \n",
    "def ShapeFactory(shape = \"Circle\"):\n",
    "    shapes = {\n",
    "        \"Circle\": Circle,\n",
    "        \"Square\": Square,\n",
    "        \"Triangle\": Triangle,\n",
    "    }\n",
    "    return shapes[shape]()\n",
    "\n",
    "class Client:\n",
    "    def create_shape(self, _shape, _size):\n",
    "        sf = ShapeFactory(_shape)\n",
    "        print(sf.draw(_size))"
   ]
  },
  {
   "cell_type": "code",
   "execution_count": 19,
   "metadata": {},
   "outputs": [
    {
     "name": "stdout",
     "output_type": "stream",
     "text": [
      "small circle\n"
     ]
    }
   ],
   "source": [
    "client = Client()\n",
    "client.create_shape(\"Circle\", \"small\")"
   ]
  },
  {
   "cell_type": "markdown",
   "metadata": {},
   "source": [
    "## Problem 2"
   ]
  },
  {
   "cell_type": "code",
   "execution_count": 38,
   "metadata": {},
   "outputs": [],
   "source": [
    "from __future__ import annotations\n",
    "from abc import ABC, abstractmethod\n",
    "\n",
    "class GUIFactory(ABC):\n",
    "    @abstractmethod\n",
    "    def create_Button(self):\n",
    "        pass\n",
    "    \n",
    "    def create_Checkbox(self):\n",
    "        pass\n",
    "    \n",
    "    \n",
    "class Button(ABC):\n",
    "    @abstractmethod\n",
    "    def paint(self):\n",
    "        pass\n",
    "    \n",
    "    \n",
    "class Checkbox(ABC):\n",
    "    @abstractmethod\n",
    "    def check(self):\n",
    "        pass\n",
    "    \n",
    "    \n",
    "class WinButton(Button):\n",
    "    def paint(self):\n",
    "        return \"Render a button in a Windows style\"\n",
    "    \n",
    "    \n",
    "class MacButton(Button):\n",
    "    def paint(self):\n",
    "        return \"Render a button in a Mac style\"\n",
    "    \n",
    "    \n",
    "class WinCheckbox(Checkbox):\n",
    "    def check(self):\n",
    "        return \"OS is Windows\"\n",
    "    \n",
    "    \n",
    "class MacCheckbox(Checkbox):\n",
    "    def check(self):\n",
    "        return \"OS is Mac\"\n",
    "    \n",
    "class WinFactory(GUIFactory):\n",
    "    def create_Button(self):\n",
    "        return WinButton()\n",
    "    \n",
    "    def create_Checkbox(self):\n",
    "        return WinCheckbox()\n",
    "    \n",
    "class MacFactory(GUIFactory):\n",
    "    def create_Button(self):\n",
    "        return MacButton()\n",
    "    \n",
    "    def create_Checkbox(self):\n",
    "        return MacCheckbox()  \n",
    "    \n",
    "    \n",
    "def client_code(factory):\n",
    "\n",
    "    button = factory.create_Button()\n",
    "    checkbox = factory.create_Checkbox()\n",
    "\n",
    "    print(button.paint())\n",
    "    print(checkbox.check())"
   ]
  },
  {
   "cell_type": "code",
   "execution_count": 39,
   "metadata": {},
   "outputs": [
    {
     "name": "stdout",
     "output_type": "stream",
     "text": [
      "Render a button in a Windows style\n",
      "OS is Windows\n",
      "Render a button in a Mac style\n",
      "OS is Mac\n"
     ]
    }
   ],
   "source": [
    "client_code(WinFactory())\n",
    "client_code(MacFactory())"
   ]
  },
  {
   "cell_type": "markdown",
   "metadata": {},
   "source": [
    "## Problem 3"
   ]
  },
  {
   "cell_type": "code",
   "execution_count": 1,
   "metadata": {},
   "outputs": [],
   "source": [
    "from __future__ import annotations\n",
    "from abc import ABC, abstractmethod, abstractproperty\n",
    "from typing import Any\n",
    "\n",
    "class Builder(ABC):\n",
    "    \n",
    "    @abstractmethod\n",
    "    def create_customer_name(self, _customer_name):\n",
    "        pass\n",
    "    \n",
    "    @abstractmethod\n",
    "    def create_customer_last_name(self, _customer_last_name):\n",
    "        pass\n",
    "    \n",
    "    @abstractmethod\n",
    "    def create_id(self, _id):\n",
    "        pass\n",
    "\n",
    "    @abstractmethod\n",
    "    def create_balance(self, _balance):\n",
    "        pass\n",
    "\n",
    "    @abstractmethod\n",
    "    def create_rate(self, _rate):\n",
    "        pass\n",
    "    \n",
    "    \n",
    "class BankAccount(Builder):\n",
    "    \n",
    "    def __init__(self):\n",
    "        self.account = Account()\n",
    "\n",
    "    def create_customer_name(self, _customer_name):\n",
    "        self.account.add(_customer_name)\n",
    "\n",
    "    def create_customer_last_name(self, _customer_last_name):\n",
    "        self.account.add(_customer_last_name)\n",
    "        \n",
    "    def create_id(self, _id):\n",
    "        self.account.add(_id)\n",
    "\n",
    "    def create_balance(self, _balance):\n",
    "        self.account.add(_balance)\n",
    "        \n",
    "    def create_rate(self, _rate):\n",
    "        self.account.add(_rate)\n",
    "        \n",
    "        \n",
    "class Account():\n",
    "\n",
    "    def __init__(self):\n",
    "        self.decription = []\n",
    "\n",
    "    def add(self, desc: Any):\n",
    "        self.decription.append(desc)\n",
    "\n",
    "    def describe(self):\n",
    "        print(f\"Account description: {', '.join(self.decription)}\", end = \"\")"
   ]
  },
  {
   "cell_type": "code",
   "execution_count": 2,
   "metadata": {},
   "outputs": [
    {
     "name": "stdout",
     "output_type": "stream",
     "text": [
      "Bank Account 1: \n",
      "Account description: Irina, Sargsyan, 55555, 20.000, 0.004"
     ]
    }
   ],
   "source": [
    "builder = BankAccount()\n",
    "\n",
    "print(\"Bank Account 1: \")\n",
    "\n",
    "builder.create_customer_name('Irina')\n",
    "builder.create_customer_last_name('Sargsyan')\n",
    "builder.create_id('55555')\n",
    "builder.create_balance('20.000')\n",
    "builder.create_rate('0.004')\n",
    "builder.account.describe()"
   ]
  }
 ],
 "metadata": {
  "kernelspec": {
   "display_name": "Python 3",
   "language": "python",
   "name": "python3"
  },
  "language_info": {
   "codemirror_mode": {
    "name": "ipython",
    "version": 3
   },
   "file_extension": ".py",
   "mimetype": "text/x-python",
   "name": "python",
   "nbconvert_exporter": "python",
   "pygments_lexer": "ipython3",
   "version": "3.8.3"
  }
 },
 "nbformat": 4,
 "nbformat_minor": 4
}
