{
 "cells": [
  {
   "cell_type": "markdown",
   "metadata": {},
   "source": [
    "## Problem 1"
   ]
  },
  {
   "cell_type": "code",
   "execution_count": 4,
   "metadata": {},
   "outputs": [
    {
     "name": "stdout",
     "output_type": "stream",
     "text": [
      "Receiving your order...\n",
      "Preparing your food...\n",
      "Delivering your food...\n"
     ]
    }
   ],
   "source": [
    "class Dispatcher:\n",
    "  \n",
    "    def receive_the_order(self):\n",
    "        print(\"Receiving your order...\")\n",
    "  \n",
    "  \n",
    "class Restaurant:\n",
    "  \n",
    "    def prepare(self):\n",
    "        print(\"Preparing your food...\")\n",
    "  \n",
    "  \n",
    "class Delivery:\n",
    "  \n",
    "    def deliver(self):\n",
    "        print(\"Delivering your food...\")\n",
    "  \n",
    "  \n",
    "class Order:\n",
    "  \n",
    "    def __init__(self):\n",
    "        self.dispatcher = Dispatcher()\n",
    "        self.restaurant = Restaurant()\n",
    "        self.delivery = Delivery()\n",
    "  \n",
    "    def ordering(self):\n",
    "        self.dispatcher.receive_the_order()\n",
    "        self.restaurant.prepare()\n",
    "        self.delivery.deliver()\n",
    "        \n",
    "        \n",
    "ordering_app = Order()\n",
    "ordering_app.ordering()"
   ]
  },
  {
   "cell_type": "markdown",
   "metadata": {},
   "source": [
    "## Problem 2"
   ]
  },
  {
   "cell_type": "code",
   "execution_count": 7,
   "metadata": {},
   "outputs": [],
   "source": [
    "class Server:\n",
    "  \n",
    "    def loading_picture(self):\n",
    "        print(\"Loading a picture...\")\n",
    "  \n",
    "  \n",
    "class ServerProxy:\n",
    "  \n",
    "    def __init__(self):\n",
    "        # 10 seconds by default \n",
    "        self.loadingtime = 10\n",
    "        self.server = None\n",
    "  \n",
    "    def loading_picture(self):\n",
    "  \n",
    "        print(\"Proxy in action. Estimating the loading time...\")\n",
    "        if self.loadingtime <= 10:\n",
    "            self.server = Server()\n",
    "            self.server.loading_picture()\n",
    "        else:\n",
    "            print(\"Showing another picture...\")"
   ]
  },
  {
   "cell_type": "code",
   "execution_count": 8,
   "metadata": {},
   "outputs": [
    {
     "name": "stdout",
     "output_type": "stream",
     "text": [
      "Proxy in action. Estimating the loading time...\n",
      "Loading a picture...\n"
     ]
    }
   ],
   "source": [
    "server_proxy = ServerProxy()\n",
    "server_proxy.loading_picture()"
   ]
  },
  {
   "cell_type": "code",
   "execution_count": 9,
   "metadata": {},
   "outputs": [
    {
     "name": "stdout",
     "output_type": "stream",
     "text": [
      "Proxy in action. Estimating the loading time...\n",
      "Showing another picture...\n"
     ]
    }
   ],
   "source": [
    "server_proxy.loadingtime = 11\n",
    "server_proxy.loading_picture()"
   ]
  },
  {
   "cell_type": "markdown",
   "metadata": {},
   "source": [
    "## Problem 3"
   ]
  },
  {
   "cell_type": "code",
   "execution_count": 10,
   "metadata": {},
   "outputs": [],
   "source": [
    "class Tree():\n",
    "    \n",
    "    def __init__(self):\n",
    "        pass\n",
    " \n",
    "    def tree(self, tree_name):\n",
    "        return \"Tree[% s]\" % (tree_name)\n",
    "    \n",
    "class TreeFactory():\n",
    "    \n",
    "    tree_dict = {}\n",
    "    \n",
    "    def __new__(cls, tree_name, tree_family):\n",
    "\n",
    "        try:\n",
    "            family = cls.tree_dict[tree_name]\n",
    "        except KeyError:\n",
    "            family = object.__new__(cls)\n",
    "            cls.tree_dict[tree_name] = family\n",
    "        return family\n",
    " \n",
    "    def set_tree_info(self, tree_info):\n",
    "\n",
    "        t = Tree()\n",
    "        self.tree_info = t.tree(tree_info)\n",
    " \n",
    "    def get_tree_info(self):\n",
    " \n",
    "        return (self.tree_info)"
   ]
  },
  {
   "cell_type": "code",
   "execution_count": 13,
   "metadata": {},
   "outputs": [],
   "source": [
    "tree_data = (('Moraceae', 'Banyan tree'), ('Betulaceae', 'Birch'), ('Betulaceae', 'Hazel'))\n",
    "tree_list = []\n",
    "for i in tree_data:\n",
    "    obj = TreeFactory(i[0], i[1])\n",
    "    obj.set_tree_info(i[1])\n",
    "    tree_list.append(obj)"
   ]
  },
  {
   "cell_type": "code",
   "execution_count": 16,
   "metadata": {},
   "outputs": [
    {
     "data": {
      "text/plain": [
       "[<__main__.TreeFactory at 0x2ba2ec68f10>,\n",
       " <__main__.TreeFactory at 0x2ba2ec7b1c0>,\n",
       " <__main__.TreeFactory at 0x2ba2ec7b1c0>]"
      ]
     },
     "execution_count": 16,
     "metadata": {},
     "output_type": "execute_result"
    }
   ],
   "source": [
    "tree_list"
   ]
  },
  {
   "cell_type": "code",
   "execution_count": 17,
   "metadata": {},
   "outputs": [
    {
     "name": "stdout",
     "output_type": "stream",
     "text": [
      "Tree[Banyan tree]\n",
      "Tree[Hazel]\n",
      "Tree[Hazel]\n"
     ]
    }
   ],
   "source": [
    "for i in tree_list:\n",
    "    print(i.get_tree_info())"
   ]
  }
 ],
 "metadata": {
  "kernelspec": {
   "display_name": "Python 3",
   "language": "python",
   "name": "python3"
  },
  "language_info": {
   "codemirror_mode": {
    "name": "ipython",
    "version": 3
   },
   "file_extension": ".py",
   "mimetype": "text/x-python",
   "name": "python",
   "nbconvert_exporter": "python",
   "pygments_lexer": "ipython3",
   "version": "3.8.3"
  }
 },
 "nbformat": 4,
 "nbformat_minor": 4
}
